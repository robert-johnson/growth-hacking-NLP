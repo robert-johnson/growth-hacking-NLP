{
 "cells": [
  {
   "cell_type": "code",
   "execution_count": 28,
   "metadata": {},
   "outputs": [],
   "source": [
    "import pandas as pd"
   ]
  },
  {
   "cell_type": "code",
   "execution_count": 20,
   "metadata": {},
   "outputs": [
    {
     "name": "stdout",
     "output_type": "stream",
     "text": [
      "Collecting matplotlib\n",
      "  Downloading matplotlib-3.2.2-cp38-cp38-win_amd64.whl (9.2 MB)\n",
      "Requirement already satisfied: python-dateutil>=2.1 in c:\\users\\rajjr\\appdata\\local\\programs\\python\\python38\\lib\\site-packages (from matplotlib) (2.8.1)\n",
      "Requirement already satisfied: numpy>=1.11 in c:\\users\\rajjr\\appdata\\local\\programs\\python\\python38\\lib\\site-packages (from matplotlib) (1.18.4)\n",
      "Collecting cycler>=0.10\n",
      "  Using cached cycler-0.10.0-py2.py3-none-any.whl (6.5 kB)\n",
      "Collecting kiwisolver>=1.0.1\n",
      "  Using cached kiwisolver-1.2.0-cp38-none-win_amd64.whl (58 kB)\n",
      "Requirement already satisfied: pyparsing!=2.0.4,!=2.1.2,!=2.1.6,>=2.0.1 in c:\\users\\rajjr\\appdata\\local\\programs\\python\\python38\\lib\\site-packages (from matplotlib) (2.4.7)\n",
      "Requirement already satisfied: six>=1.5 in c:\\users\\rajjr\\appdata\\local\\programs\\python\\python38\\lib\\site-packages (from python-dateutil>=2.1->matplotlib) (1.15.0)\n",
      "Installing collected packages: cycler, kiwisolver, matplotlib\n",
      "Successfully installed cycler-0.10.0 kiwisolver-1.2.0 matplotlib-3.2.2\n",
      "Note: you may need to restart the kernel to use updated packages.\n"
     ]
    }
   ],
   "source": [
    "pip install matplotlib"
   ]
  },
  {
   "cell_type": "code",
   "execution_count": 3,
   "metadata": {},
   "outputs": [
    {
     "name": "stdout",
     "output_type": "stream",
     "text": [
      "Collecting ndjson\n",
      "  Using cached ndjson-0.3.1-py2.py3-none-any.whl (5.3 kB)\n",
      "Installing collected packages: ndjson\n",
      "Successfully installed ndjson-0.3.1\n",
      "Note: you may need to restart the kernel to use updated packages.\n"
     ]
    }
   ],
   "source": [
    "pip install ndjson"
   ]
  },
  {
   "cell_type": "code",
   "execution_count": 21,
   "metadata": {},
   "outputs": [],
   "source": [
    "import ndjson\n",
    "import matplotlib.pyplot as plt"
   ]
  },
  {
   "cell_type": "code",
   "execution_count": 9,
   "metadata": {},
   "outputs": [
    {
     "name": "stdout",
     "output_type": "stream",
     "text": [
      "   overall  verified   reviewTime      reviewerID        asin  \\\n",
      "0      5.0      True  10 17, 2015  A1HP7NVNPFMA4N  0700026657   \n",
      "1      4.0     False  07 27, 2015  A1JGAP0185YJI6  0700026657   \n",
      "2      3.0      True  02 23, 2015  A1YJWEXHQBWK2B  0700026657   \n",
      "3      2.0      True  02 20, 2015  A2204E1TH211HT  0700026657   \n",
      "4      5.0      True  12 25, 2014  A2RF5B5H74JLPE  0700026657   \n",
      "\n",
      "        reviewerName                                         reviewText  \\\n",
      "0        Ambrosia075  This game is a bit hard to get the hang of, bu...   \n",
      "1             travis  I played it a while but it was alright. The st...   \n",
      "2  Vincent G. Mezera                                           ok game.   \n",
      "3         Grandma KR  found the game a bit too complicated, not what...   \n",
      "4                jon  great game, I love it and have played it since...   \n",
      "\n",
      "                                       summary  unixReviewTime vote  ...  \\\n",
      "0                  but when you do it's great.      1445040000  NaN  ...   \n",
      "1  But in spite of that it was fun, I liked it      1437955200  NaN  ...   \n",
      "2                                  Three Stars      1424649600  NaN  ...   \n",
      "3                                    Two Stars      1424390400  NaN  ...   \n",
      "4                               love this game      1419465600  NaN  ...   \n",
      "\n",
      "  style.Package Type: style.Package Quantity: style.Item Package Quantity:  \\\n",
      "0                 NaN                     NaN                          NaN   \n",
      "1                 NaN                     NaN                          NaN   \n",
      "2                 NaN                     NaN                          NaN   \n",
      "3                 NaN                     NaN                          NaN   \n",
      "4                 NaN                     NaN                          NaN   \n",
      "\n",
      "  style.Pattern: style.Platform for Display: style.Style Name:  \\\n",
      "0            NaN                         NaN               NaN   \n",
      "1            NaN                         NaN               NaN   \n",
      "2            NaN                         NaN               NaN   \n",
      "3            NaN                         NaN               NaN   \n",
      "4            NaN                         NaN               NaN   \n",
      "\n",
      "  style.Denomination: style.Offer Type: style.Configuration: style.Color Name:  \n",
      "0                 NaN               NaN                  NaN               NaN  \n",
      "1                 NaN               NaN                  NaN               NaN  \n",
      "2                 NaN               NaN                  NaN               NaN  \n",
      "3                 NaN               NaN                  NaN               NaN  \n",
      "4                 NaN               NaN                  NaN               NaN  \n",
      "\n",
      "[5 rows x 30 columns]\n"
     ]
    }
   ],
   "source": [
    "with open(r'C:\\Users\\rajjr\\PycharmProjects\\growth_hacking\\chapter_1\\video_games_5.json') as f:\n",
    "    data = ndjson.load(f)\n",
    "    \n",
    "df = pd.json_normalize(data)\n",
    "print(df.head())"
   ]
  },
  {
   "cell_type": "code",
   "execution_count": 22,
   "metadata": {},
   "outputs": [
    {
     "name": "stdout",
     "output_type": "stream",
     "text": [
      "        rating                                             review\n",
      "364850     5.0  Love this 3ds game. I made a zombie Togepi wit...\n",
      "216628     5.0                                           Fun game\n",
      "319038     5.0  This game is so fun.  I think it is the best S...\n",
      "440696     5.0  I hated the first game but absolutely love thi...\n",
      "287513     5.0   Love the Tales games. Glad I purchased this one.\n"
     ]
    }
   ],
   "source": [
    "shuffled_df = df.sample(frac=1, random_state=42)\n",
    "shuffled_df = shuffled_df[['overall', 'reviewText']]\n",
    "shuffled_df.rename(columns={'overall': 'rating', 'reviewText': 'review'}, inplace=True)\n",
    "print(shuffled_df.head())"
   ]
  },
  {
   "cell_type": "code",
   "execution_count": 23,
   "metadata": {},
   "outputs": [
    {
     "name": "stdout",
     "output_type": "stream",
     "text": [
      "(100000, 2)\n",
      "        rating                                             review\n",
      "165709     5.0  Very fast shipping!\\nThis is a fun game and de...\n",
      "89114      2.0  After having rented this title, I am very glad...\n",
      "464991     4.0                           still got it. RAINDROPS!\n",
      "149596     5.0  I didn't expect Starcraft 2: Wings of Liberty ...\n",
      "365197     1.0                                            BORING!\n"
     ]
    }
   ],
   "source": [
    "df_100k = shuffled_df.sample(n=100000, random_state=42)\n",
    "print(df_100k.shape)\n",
    "print(df_100k.head())"
   ]
  },
  {
   "cell_type": "code",
   "execution_count": 24,
   "metadata": {},
   "outputs": [],
   "source": [
    "df_100k.to_csv(r'C:\\Users\\rajjr\\PycharmProjects\\growth_hacking\\chapter_1\\100k.csv', index=False)"
   ]
  },
  {
   "cell_type": "code",
   "execution_count": 25,
   "metadata": {},
   "outputs": [],
   "source": [
    "df_5 = shuffled_df.loc[shuffled_df['rating'] == 5.0].sample(n=1500, random_state=42)\n",
    "df_4 = shuffled_df.loc[shuffled_df['rating'] == 4.0].sample(n=500, random_state=42)\n",
    "df_3 = shuffled_df.loc[shuffled_df['rating'] == 3.0].sample(n=500, random_state=42)\n",
    "df_2 = shuffled_df.loc[shuffled_df['rating'] == 2.0].sample(n=500, random_state=42)\n",
    "df_1 = shuffled_df.loc[shuffled_df['rating'] == 1.0].sample(n=1500, random_state=42)\n",
    "\n",
    "df_combined = pd.concat([df_5, df_4, df_3, df_2, df_1])\n"
   ]
  },
  {
   "cell_type": "code",
   "execution_count": 26,
   "metadata": {},
   "outputs": [],
   "source": [
    "df_combined.to_csv('balanced.csv', index=False)"
   ]
  },
  {
   "cell_type": "code",
   "execution_count": 27,
   "metadata": {},
   "outputs": [
    {
     "data": {
      "image/png": "[encoded data removed]",
      "text/plain": [
       "<Figure size 432x288 with 1 Axes>"
      ]
     },
     "metadata": {
      "needs_background": "light"
     },
     "output_type": "display_data"
    }
   ],
   "source": [
    "df_combined['rating'].value_counts(sort=True).plot.bar()\n",
    "plt.show()"
   ]
  },
  {
   "cell_type": "code",
   "execution_count": null,
   "metadata": {},
   "outputs": [],
   "source": []
  }
 ],
 "metadata": {
  "kernelspec": {
   "display_name": "Python 3",
   "language": "python",
   "name": "python3"
  },
  "language_info": {
   "codemirror_mode": {
    "name": "ipython",
    "version": 3
   },
   "file_extension": ".py",
   "mimetype": "text/x-python",
   "name": "python",
   "nbconvert_exporter": "python",
   "pygments_lexer": "ipython3",
   "version": "3.8.3"
  }
 },
 "nbformat": 4,
 "nbformat_minor": 4
}
